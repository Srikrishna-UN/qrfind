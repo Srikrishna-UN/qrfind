{
 "cells": [
  {
   "cell_type": "code",
   "execution_count": 11,
   "outputs": [
    {
     "name": "stdout",
     "output_type": "stream",
     "text": [
      "Decision Tree: Mean MSE: 0.9953953761690967, Std Dev: 0.0005382895772571146\n",
      "Random Forest: Mean MSE: 0.9971419356175464, Std Dev: 0.0005968586197382097\n",
      "KNN: Mean MSE: 0.9886074801542017, Std Dev: 0.0008194810597688928\n"
     ]
    }
   ],
   "source": [
    "import pandas as pd\n",
    "from sklearn.model_selection import cross_val_score, GridSearchCV\n",
    "from sklearn.preprocessing import LabelEncoder, StandardScaler\n",
    "from sklearn.tree import DecisionTreeClassifier\n",
    "from sklearn.ensemble import RandomForestClassifier\n",
    "from sklearn.neighbors import KNeighborsClassifier\n",
    "\n",
    "# Load the dataset\n",
    "train_data = pd.read_csv(\"archive/Train_data.csv\")\n",
    "\n",
    "# Separate features and target variable\n",
    "X_train = train_data.drop(columns=[\"class\"])\n",
    "y_train = train_data[\"class\"]\n",
    "\n",
    "# Encode labels if they are strings\n",
    "label_encoders = {}\n",
    "for column in X_train.columns:\n",
    "    if X_train[column].dtype == 'object':\n",
    "        label_encoders[column] = LabelEncoder()\n",
    "        X_train[column] = label_encoders[column].fit_transform(X_train[column])\n",
    "\n",
    "# Encode target variable if it's a string\n",
    "if y_train.dtype == 'object':\n",
    "    label_encoder = LabelEncoder()\n",
    "    y_train = label_encoder.fit_transform(y_train)\n",
    "\n",
    "# # Normalize the features\n",
    "# scaler = StandardScaler()\n",
    "# X_normalized = scaler.fit_transform(X)\n",
    "\n",
    "# Initialize models\n",
    "models = {\n",
    "    \"Decision Tree\": DecisionTreeClassifier(),\n",
    "    \"Random Forest\": RandomForestClassifier(),\n",
    "    \"KNN\": KNeighborsClassifier()\n",
    "}\n",
    "\n",
    "# Train and evaluate models using cross-validation\n",
    "for name, model in models.items():\n",
    "    scores = cross_val_score(model, X_train, y_train, cv=5)\n",
    "    print(f\"{name}: Mean MSE: {scores.mean()}, Std Dev: {scores.std()}\")\n",
    "\n"
   ],
   "metadata": {
    "collapsed": false,
    "ExecuteTime": {
     "end_time": "2024-04-17T06:37:03.750405300Z",
     "start_time": "2024-04-17T06:36:55.108942200Z"
    }
   }
  },
  {
   "cell_type": "code",
   "execution_count": null,
   "outputs": [],
   "source": [
    "# Perform hyperparameter tuning for the best performing model\n",
    "best_model = RandomForestClassifier()  # Example: Replace with the best performing model\n",
    "param_grid = {\n",
    "    'n_estimators': [100, 200, 300],\n",
    "    'max_depth': [None, 10, 20],\n",
    "    'min_samples_split': [2, 5, 10],\n",
    "    'min_samples_leaf': [1, 2, 4]\n",
    "}\n",
    "\n",
    "grid_search = GridSearchCV(best_model, param_grid, cv=5, scoring='neg_mean_squared_error')\n",
    "grid_search.fit(X_train, y_train)\n",
    "\n",
    "print(\"Best parameters found:\", grid_search.best_params_)\n",
    "print(\"Best mean cross-validation score:\", -grid_search.best_score_)"
   ],
   "metadata": {
    "collapsed": false,
    "is_executing": true,
    "ExecuteTime": {
     "start_time": "2024-04-17T06:37:41.716676800Z"
    }
   }
  },
  {
   "cell_type": "code",
   "execution_count": null,
   "outputs": [],
   "source": [
    "# Evaluate the best model on the test set\n",
    "test_data = pd.read_csv(\"archive/Test_data.csv\")\n",
    "\n",
    "# Separate features and target variable\n",
    "X_test = train_data.drop(columns=[\"class\"])\n",
    "y_test = train_data[\"class\"]\n",
    "\n",
    "for column in X_test.columns:\n",
    "    if X_test[column].dtype == 'object':\n",
    "        X_test[column] = label_encoders[column].fit_transform(X_test[column])\n",
    "\n",
    "# Encode target variable if it's a string\n",
    "if y_test.dtype == 'object':\n",
    "    y_test = label_encoder.fit_transform(y_test)\n",
    "\n",
    "best_model = grid_search.best_estimator_\n",
    "test_score = best_model.score(X_test, y_test)\n",
    "print(f\"Test set score: {test_score}\")\n"
   ],
   "metadata": {
    "collapsed": false
   }
  }
 ],
 "metadata": {
  "kernelspec": {
   "display_name": "Python 3",
   "language": "python",
   "name": "python3"
  },
  "language_info": {
   "codemirror_mode": {
    "name": "ipython",
    "version": 2
   },
   "file_extension": ".py",
   "mimetype": "text/x-python",
   "name": "python",
   "nbconvert_exporter": "python",
   "pygments_lexer": "ipython2",
   "version": "2.7.6"
  }
 },
 "nbformat": 4,
 "nbformat_minor": 0
}
